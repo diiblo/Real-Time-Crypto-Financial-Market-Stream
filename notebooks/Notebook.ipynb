{
 "cells": [
  {
   "cell_type": "code",
   "execution_count": 5,
   "id": "5628318d-7c54-4398-9b81-55f888adb2c5",
   "metadata": {},
   "outputs": [
    {
     "name": "stdout",
     "output_type": "stream",
     "text": [
      "Spark version: 3.5.0\n"
     ]
    }
   ],
   "source": [
    "from pyspark.sql import SparkSession\n",
    "# Création de la SparkSession\n",
    "spark = SparkSession.builder \\\n",
    "    .appName(\"CryptoStockRealTimeProcessing\") \\\n",
    "    .master(\"spark://spark-master:7077\") \\\n",
    "    .config(\"spark.executor.memory\", \"2g\") \\\n",
    "    .config(\"spark.jars\", \"/usr/local/spark/jars/postgresql-42.6.0.jar,/usr/local/spark/jars/spark-sql-kafka-0-10_2.12-3.4.0.jar,/usr/local/spark/jars/kafka-clients-2.8.0.jar\") \\\n",
    "    .getOrCreate()\n",
    "\n",
    "# Vérification de la SparkSession\n",
    "print(f\"Spark version: {spark.version}\")"
   ]
  }
 ],
 "metadata": {
  "kernelspec": {
   "display_name": "Python 3 (ipykernel)",
   "language": "python",
   "name": "python3"
  },
  "language_info": {
   "codemirror_mode": {
    "name": "ipython",
    "version": 3
   },
   "file_extension": ".py",
   "mimetype": "text/x-python",
   "name": "python",
   "nbconvert_exporter": "python",
   "pygments_lexer": "ipython3",
   "version": "3.11.6"
  }
 },
 "nbformat": 4,
 "nbformat_minor": 5
}
