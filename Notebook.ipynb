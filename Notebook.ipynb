{
 "cells": [
  {
   "cell_type": "code",
   "execution_count": null,
   "id": "18d68ccf-464f-45ad-b000-63e312ef06f6",
   "metadata": {},
   "outputs": [],
   "source": [
    "!pip install psycopg2-binary kafka-python"
   ]
  },
  {
   "cell_type": "code",
   "execution_count": 14,
   "id": "fe6e50b0-bb06-4dc8-9516-7c4a2af15d67",
   "metadata": {},
   "outputs": [],
   "source": [
    "# Importation des bibliothèques nécessaires pour Spark et le traitement des données\n",
    "from pyspark.sql import SparkSession\n",
    "from pyspark.sql.functions import *\n",
    "\n",
    "# Bibliothèque pour interagir avec les APIs (CryptoCompare, Alpha Vantage)\n",
    "import requests\n",
    "\n",
    "# Pour l'interaction avec PostgreSQL via JDBC\n",
    "import psycopg2\n",
    "from sqlalchemy import create_engine\n",
    "\n",
    "# Pour Kafka\n",
    "from kafka import KafkaProducer, KafkaConsumer"
   ]
  },
  {
   "cell_type": "code",
   "execution_count": 15,
   "id": "5628318d-7c54-4398-9b81-55f888adb2c5",
   "metadata": {},
   "outputs": [
    {
     "name": "stdout",
     "output_type": "stream",
     "text": [
      "Spark version: 3.5.0\n"
     ]
    }
   ],
   "source": [
    "# Création de la SparkSession\n",
    "spark = SparkSession.builder \\\n",
    "    .appName(\"CryptoStockRealTimeProcessing\") \\\n",
    "    .master(\"spark://spark-master:7077\") \\\n",
    "    .config(\"spark.executor.memory\", \"2g\") \\\n",
    "    .config(\"spark.jars\", \"/usr/local/spark/jars/postgresql-42.6.0.jar,/usr/local/spark/jars/spark-sql-kafka-0-10_2.12-3.4.0.jar,/usr/local/spark/jars/kafka-clients-2.8.0.jar\") \\\n",
    "    .getOrCreate()\n",
    "\n",
    "# Vérification de la SparkSession\n",
    "print(f\"Spark version: {spark.version}\")"
   ]
  },
  {
   "cell_type": "code",
   "execution_count": 16,
   "id": "c6cee6e1-928c-4a1e-b6db-4f19a465f59c",
   "metadata": {},
   "outputs": [],
   "source": [
    "# Vérification de la liste des nœuds du cluster Spark\n",
    "#spark.sparkContext.getConf().getAll()"
   ]
  }
 ],
 "metadata": {
  "kernelspec": {
   "display_name": "Python 3 (ipykernel)",
   "language": "python",
   "name": "python3"
  },
  "language_info": {
   "codemirror_mode": {
    "name": "ipython",
    "version": 3
   },
   "file_extension": ".py",
   "mimetype": "text/x-python",
   "name": "python",
   "nbconvert_exporter": "python",
   "pygments_lexer": "ipython3",
   "version": "3.11.6"
  }
 },
 "nbformat": 4,
 "nbformat_minor": 5
}
